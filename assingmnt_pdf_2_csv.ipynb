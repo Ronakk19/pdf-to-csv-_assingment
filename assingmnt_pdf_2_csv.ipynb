{
 "cells": [
  {
   "cell_type": "markdown",
   "id": "1f47e484",
   "metadata": {},
   "source": [
    "# Assingment"
   ]
  },
  {
   "cell_type": "markdown",
   "id": "8de3652d",
   "metadata": {},
   "source": [
    "function takes the input path and the output folder path location and returns the locatio of the csv file"
   ]
  },
  {
   "cell_type": "markdown",
   "id": "98c37d28",
   "metadata": {},
   "source": [
    "Prerequisite:- fitz, tesseract to be installed with proper exe file in tesseract-OCR file\n",
    "               pass the input as raw string i.e append a 'r' before it \n",
    "               Eg - r\"C:\\Users\\Nidhi Agarwal\\Desktop\\cn\\ml\\pdfs\\Lorem ipsum dolor sit amet.pdf\"\n",
    "               \n",
    "               \n",
    "The resultant csv file is in the repo \n"
   ]
  },
  {
   "cell_type": "code",
   "execution_count": 18,
   "id": "adea7da5",
   "metadata": {},
   "outputs": [
    {
     "data": {
      "text/plain": [
       "'C:\\\\Users\\\\Nidhi Agarwal\\\\Desktop\\\\op\\\\Lorem ipsum dolor sit amet.csv'"
      ]
     },
     "execution_count": 18,
     "metadata": {},
     "output_type": "execute_result"
    }
   ],
   "source": [
    "import fitz                                  # PyMuPDF library for handling PDFs\n",
    "from PIL import Image                        # Pillow library for image processing\n",
    "import pandas as pd                          # Pandas library for data manipulation\n",
    "import numpy as np                           # NumPy library for numerical operations\n",
    "from pytesseract import pytesseract          # PyTesseract library for Optical Character Recognition\n",
    "import csv                                   # CSV library for reading and writing CSV files\n",
    "\n",
    "# Define the function to convert PDF to CSV\n",
    "def pdf_to_csv(input_file_path, output_file_path):\n",
    "    # Get the name of the PDF file without extension\n",
    "    pdf_name=input_file_path.split(\"\\\\\")[-1].split(\".\")[0]\n",
    "\n",
    "    # Create a dictionary to store the paragraph content, page number, and PDF name\n",
    "    d={\"pdfname\":[],\"page_Number\":[] , \"Paragraph_Number\":[], \"Paragraph_Content\":[] }\n",
    "\n",
    "    # Open the PDF file using fitz\n",
    "    pdf=fitz.open(input_file_path)\n",
    "\n",
    "    # Set the path to Tesseract OCR\n",
    "    path_to_tesseract = r\"C:\\Program Files\\Tesseract-OCR\\tesseract.exe\"\n",
    "    pytesseract.tesseract_cmd = path_to_tesseract\n",
    "\n",
    "    # Loop through each page in the PDF\n",
    "    for pg in range(pdf.page_count):\n",
    "        # Get the page using fitz\n",
    "        te=pdf[pg]\n",
    "\n",
    "        # Convert the page to a PIL image and extract text using Tesseract OCR\n",
    "        pixmap=te.get_pixmap(alpha=False)\n",
    "        image = Image.frombytes(\"RGB\", [pixmap.width, pixmap.height], pixmap.samples)\n",
    "        text = pytesseract.image_to_string(image)\n",
    "\n",
    "        # Split the text into paragraphs and store each paragraph along with its page number, paragraph number, and PDF name\n",
    "        l=text.split(\"\\n\\n\")\n",
    "        d[\"Paragraph_Content\"].extend(l)\n",
    "        ll=len(d[\"Paragraph_Number\"])\n",
    "        d[\"Paragraph_Number\"].extend(np.arange(ll,ll+len(l)))\n",
    "        d[\"page_Number\"].extend([pg+1]*len(l))\n",
    "        d[\"pdfname\"].extend([pdf_name]*len(l))\n",
    "\n",
    "    # Add 1 to each Paragraph_Number to make the numbers start from 1 instead of 0\n",
    "    d[\"Paragraph_Number\"]=np.array(d[\"Paragraph_Number\"])+1\n",
    "\n",
    "    # Convert the dictionary to a DataFrame\n",
    "    new = pd.DataFrame.from_dict(d)\n",
    "\n",
    "    # Set the output file path to include the PDF name and .csv extension\n",
    "    output_file_path=output_file_path+\"\\\\\"+pdf_name+ \".csv\"\n",
    "\n",
    "    # Write the DataFrame to a CSV file\n",
    "    new.to_csv(output_file_path, index=False ,mode='w')\n",
    "\n",
    "    # Return the output file path\n",
    "    return output_file_path\n",
    "\n",
    "s=pdf_to_csv(r\"C:\\Users\\Nidhi Agarwal\\Desktop\\cn\\ml\\pdfs\\Lorem ipsum dolor sit amet.pdf\", r\"C:\\Users\\Nidhi Agarwal\\Desktop\\op\")\n",
    "s"
   ]
  }
 ],
 "metadata": {
  "kernelspec": {
   "display_name": "Python 3 (ipykernel)",
   "language": "python",
   "name": "python3"
  },
  "language_info": {
   "codemirror_mode": {
    "name": "ipython",
    "version": 3
   },
   "file_extension": ".py",
   "mimetype": "text/x-python",
   "name": "python",
   "nbconvert_exporter": "python",
   "pygments_lexer": "ipython3",
   "version": "3.9.13"
  }
 },
 "nbformat": 4,
 "nbformat_minor": 5
}
