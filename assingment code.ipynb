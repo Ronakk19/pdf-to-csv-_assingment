{
 "cells": [
  {
   "cell_type": "markdown",
   "id": "abcaf76a",
   "metadata": {},
   "source": [
    "# Assingment "
   ]
  },
  {
   "cell_type": "markdown",
   "id": "77bbc1c9",
   "metadata": {},
   "source": [
    " function takes the input path and returns a pandas dataframe"
   ]
  },
  {
   "cell_type": "raw",
   "id": "db9e37b4",
   "metadata": {},
   "source": [
    "Prerequisite:- fitz, tesseract to be installed with proper exe file in tesseract-OCR file\n",
    "               pass the input as raw string i.e append a 'r' before it \n",
    "               Eg - r\"C:\\Users\\Nidhi Agarwal\\Desktop\\cn\\ml\\pdfs\\Lorem ipsum dolor sit amet.pdf\""
   ]
  },
  {
   "cell_type": "code",
   "execution_count": 69,
   "id": "b67548b6",
   "metadata": {
    "scrolled": true
   },
   "outputs": [],
   "source": [
    "import fitz\n",
    "import re\n",
    "from PIL import Image\n",
    "import pandas as pd\n",
    "from pytesseract import pytesseract\n",
    "import csv\n",
    "def pdf_to_csv(input_file_path, output_file_path):\n",
    "    pdn=input_file_path.split(\"\\\\\")[-1].split(\".\")[0]                                           \n",
    "    d={\"pdfname\":[pdn],\"page_Number\":[0] , \"Paragraph_Number\":[0], \"Paragraph_Content\":[\"\"] }\n",
    "    pdf=fitz.open(input_file_path)\n",
    "    path_to_tesseract = r\"C:\\Program Files\\Tesseract-OCR\\tesseract.exe\"\n",
    "    pytesseract.tesseract_cmd = path_to_tesseract\n",
    "    pn=1\n",
    "    \n",
    "    for pg in range(pdf.page_count):\n",
    "        te=pdf[pg]\n",
    "        pixmap=te.get_pixmap(alpha=False)\n",
    "        image = Image.frombytes(\"RGB\", [pixmap.width, pixmap.height], pixmap.samples)\n",
    "        text = pytesseract.image_to_string(image)\n",
    "        l=text.split(\"\\n\\n\")\n",
    "        for i in l:\n",
    "            i=i.replace(\"\\n\" , \"\")\n",
    "            d[\"Paragraph_Number\"].append(pn)\n",
    "            pn=pn+1\n",
    "            d[\"Paragraph_Content\"].append(i)\n",
    "            d[\"page_Number\"].append(pg)\n",
    "            d[\"pdfname\"].append(pdn)\n",
    "    new = pd.DataFrame.from_dict(d)\n",
    "    return new\n",
    "\n"
   ]
  },
  {
   "cell_type": "markdown",
   "id": "1f47e484",
   "metadata": {},
   "source": [
    "# Assingment"
   ]
  },
  {
   "cell_type": "markdown",
   "id": "8de3652d",
   "metadata": {},
   "source": [
    "function takes the input path and returns a pandas dataframe"
   ]
  },
  {
   "cell_type": "markdown",
   "id": "98c37d28",
   "metadata": {},
   "source": [
    "Prerequisite:- fitz, tesseract to be installed with proper exe file in tesseract-OCR file\n",
    "               pass the input as raw string i.e append a 'r' before it \n",
    "               Eg - r\"C:\\Users\\Nidhi Agarwal\\Desktop\\cn\\ml\\pdfs\\Lorem ipsum dolor sit amet.pdf\"\n",
    "               \n",
    "               \n",
    "IMPORTANT :-Make Sure the output directory you choose , you have the required permission to write on it\n"
   ]
  },
  {
   "cell_type": "code",
   "execution_count": null,
   "id": "469c1d47",
   "metadata": {},
   "outputs": [],
   "source": [
    "import fitz\n",
    "import re\n",
    "from PIL import Image\n",
    "import pandas as pd\n",
    "from pytesseract import pytesseract\n",
    "import csv\n",
    "def pdf_to_csv(input_file_path, output_file_path):\n",
    "    pdn=input_file_path.split(\"\\\\\")[-1].split(\".\")[0]                                           \n",
    "    d={\"pdfname\":[pdn],\"page_Number\":[0] , \"Paragraph_Number\":[0], \"Paragraph_Content\":[\"\"] }\n",
    "    pdf=fitz.open(input_file_path)\n",
    "    path_to_tesseract = r\"C:\\Program Files\\Tesseract-OCR\\tesseract.exe\"\n",
    "    pytesseract.tesseract_cmd = path_to_tesseract\n",
    "    pn=1\n",
    "    \n",
    "    for pg in range(pdf.page_count):\n",
    "        te=pdf[pg]\n",
    "        pixmap=te.get_pixmap(alpha=False)\n",
    "        image = Image.frombytes(\"RGB\", [pixmap.width, pixmap.height], pixmap.samples)\n",
    "        text = pytesseract.image_to_string(image)\n",
    "        l=text.split(\"\\n\\n\")\n",
    "        for i in l:\n",
    "            i=i.replace(\"\\n\" , \"\")\n",
    "            d[\"Paragraph_Number\"].append(pn)\n",
    "            pn=pn+1\n",
    "            d[\"Paragraph_Content\"].append(i)\n",
    "            d[\"page_Number\"].append(pg)\n",
    "            d[\"pdfname\"].append(pdn)\n",
    "    new = pd.DataFrame.from_dict(d)\n",
    "    new.to_csv(output_file_path, index=False ,mode='w')\n",
    "    return output_file_path\n",
    "\n"
   ]
  }
 ],
 "metadata": {
  "kernelspec": {
   "display_name": "Python 3 (ipykernel)",
   "language": "python",
   "name": "python3"
  },
  "language_info": {
   "codemirror_mode": {
    "name": "ipython",
    "version": 3
   },
   "file_extension": ".py",
   "mimetype": "text/x-python",
   "name": "python",
   "nbconvert_exporter": "python",
   "pygments_lexer": "ipython3",
   "version": "3.9.13"
  }
 },
 "nbformat": 4,
 "nbformat_minor": 5
}
