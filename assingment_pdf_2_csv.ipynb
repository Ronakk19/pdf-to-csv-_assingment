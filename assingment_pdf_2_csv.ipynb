{
 "cells": [
  {
   "cell_type": "markdown",
   "id": "1f47e484",
   "metadata": {},
   "source": [
    "# Assingment"
   ]
  },
  {
   "cell_type": "markdown",
   "id": "8de3652d",
   "metadata": {},
   "source": [
    "function takes the input path and the output folder path location and returns the locatio of the csv file"
   ]
  },
  {
   "cell_type": "markdown",
   "id": "98c37d28",
   "metadata": {},
   "source": [
    "Prerequisite:- fitz, tesseract to be installed with proper exe file in tesseract-OCR file\n",
    "               pass the input as raw string i.e append a 'r' before it \n",
    "               Eg - r\"C:\\Users\\Nidhi Agarwal\\Desktop\\cn\\ml\\pdfs\\Lorem ipsum dolor sit amet.pdf\"\n",
    "               \n",
    "               \n",
    "The resultant csv file is in the repo named output1\n"
   ]
  },
  {
   "cell_type": "code",
   "execution_count": 5,
   "id": "469c1d47",
   "metadata": {},
   "outputs": [
    {
     "data": {
      "text/plain": [
       "'C:\\\\Users\\\\Nidhi Agarwal\\\\Desktop\\\\op\\\\output1.csv'"
      ]
     },
     "execution_count": 5,
     "metadata": {},
     "output_type": "execute_result"
    }
   ],
   "source": [
    "import fitz\n",
    "import re\n",
    "from PIL import Image\n",
    "import pandas as pd\n",
    "from pytesseract import pytesseract\n",
    "import csv\n",
    "def pdf_to_csv(input_file_path, output_file_path):\n",
    "    pdn=input_file_path.split(\"\\\\\")[-1].split(\".\")[0]                                           \n",
    "    d={\"pdfname\":[pdn],\"page_Number\":[0] , \"Paragraph_Number\":[0], \"Paragraph_Content\":[\"\"] }\n",
    "    pdf=fitz.open(input_file_path)\n",
    "    path_to_tesseract = r\"C:\\Program Files\\Tesseract-OCR\\tesseract.exe\"\n",
    "    pytesseract.tesseract_cmd = path_to_tesseract\n",
    "    pn=1\n",
    "    \n",
    "    for pg in range(pdf.page_count):\n",
    "        te=pdf[pg]\n",
    "        pixmap=te.get_pixmap(alpha=False)\n",
    "        image = Image.frombytes(\"RGB\", [pixmap.width, pixmap.height], pixmap.samples)\n",
    "        text = pytesseract.image_to_string(image)\n",
    "        l=text.split(\"\\n\\n\")\n",
    "        for i in l:\n",
    "            i=i.replace(\"\\n\" , \"\")\n",
    "            d[\"Paragraph_Number\"].append(pn)\n",
    "            pn=pn+1\n",
    "            d[\"Paragraph_Content\"].append(i)\n",
    "            d[\"page_Number\"].append(pg)\n",
    "            d[\"pdfname\"].append(pdn)\n",
    "    new = pd.DataFrame.from_dict(d)\n",
    "    new.drop(0)\n",
    "    output_file_path=output_file_path+\"\\output1.csv\"\n",
    "    new.to_csv(output_file_path, index=False ,mode='w')\n",
    "    return output_file_path\n",
    "\n",
    "s=pdf_to_csv(r\"C:\\Users\\Nidhi Agarwal\\Desktop\\cn\\ml\\pdfs\\Lorem ipsum dolor sit amet.pdf\", r\"C:\\Users\\Nidhi Agarwal\\Desktop\\op\")\n",
    "s"
   ]
  }
 ],
 "metadata": {
  "kernelspec": {
   "display_name": "Python 3 (ipykernel)",
   "language": "python",
   "name": "python3"
  },
  "language_info": {
   "codemirror_mode": {
    "name": "ipython",
    "version": 3
   },
   "file_extension": ".py",
   "mimetype": "text/x-python",
   "name": "python",
   "nbconvert_exporter": "python",
   "pygments_lexer": "ipython3",
   "version": "3.9.13"
  }
 },
 "nbformat": 4,
 "nbformat_minor": 5
}
